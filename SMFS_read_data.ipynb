{
 "cells": [
  {
   "cell_type": "code",
   "execution_count": 33,
   "id": "b1a365f5",
   "metadata": {},
   "outputs": [],
   "source": [
    "import numpy as np\n",
    "import matplotlib.pyplot as plt\n",
    "from PIL import Image\n",
    "import imageio"
   ]
  },
  {
   "cell_type": "code",
   "execution_count": 1,
   "id": "b293d413",
   "metadata": {},
   "outputs": [],
   "source": []
  },
  {
   "cell_type": "code",
   "execution_count": 100,
   "id": "2b6cce23",
   "metadata": {},
   "outputs": [
    {
     "name": "stdout",
     "output_type": "stream",
     "text": [
      "(948, 620)\n",
      "68\n"
     ]
    }
   ],
   "source": [
    "file_path = \"./Mn:ZnCdS_Data/86-GLS-CLR-200ms-1.tif\"\n",
    "\n",
    "def read_tiff_file(file_path):\n",
    "    # Read the TIFF file\n",
    "    tiff_reader = imageio.get_reader(file_path)\n",
    "\n",
    "    # Initialize an empty list to store frames as NumPy arrays\n",
    "    frames_list = []\n",
    "\n",
    "    # Iterate through frames and convert each to a NumPy array\n",
    "    for frame in tiff_reader:\n",
    "        frame_array = np.array(frame)\n",
    "        frames_list.append(frame_array)\n",
    "\n",
    "    # Close the TIFF reader\n",
    "    tiff_reader.close()\n",
    "\n",
    "    return frames_list\n",
    "\n",
    "# Example usage\n",
    "frames = read_tiff_file(file_path)\n",
    "# print(frames[0][1].shape)\n",
    "# size = 1\n",
    "# frames = torch.tensor(mov.read())\n",
    "# while True:\n",
    "#     img = mov.next()\n",
    "#     torch.stack((frames, img))\n",
    "# print(np.max(frames[0][0]))"
   ]
  },
  {
   "cell_type": "code",
   "execution_count": 98,
   "id": "c16de111",
   "metadata": {},
   "outputs": [
    {
     "data": {
      "text/plain": [
       "[<matplotlib.lines.Line2D at 0x17ccaa910>]"
      ]
     },
     "execution_count": 98,
     "metadata": {},
     "output_type": "execute_result"
    },
    {
     "data": {
      "image/png": "[encoded data removed]",
      "text/plain": [
       "<Figure size 432x288 with 1 Axes>"
      ]
     },
     "metadata": {
      "needs_background": "light"
     },
     "output_type": "display_data"
    }
   ],
   "source": [
    "size = frames[0].shape\n",
    "depth = size[0]\n",
    "height = size[1]\n",
    "width = size[2]\n",
    "spectra = []\n",
    "for l in range(depth):\n",
    "    mean = []\n",
    "    for i in range(width):\n",
    "        column = frames[0][l][:, i]\n",
    "        mean.append(np.mean(column))\n",
    "    zeroth_order = np.argmax(mean)\n",
    "    # print(zeroth_order)\n",
    "    particle_location = np.argsort(frames[0][0][:, zeroth_order])[-3:]\n",
    "    for k in range(len(particle_location)):\n",
    "            spectra.append(frames[0][0][k, zeroth_order:])\n",
    "\n",
    "# columns = np.arange(0, width)\n",
    "# plt.plot(columns, mean)\n",
    "# rows = np.arange(0, height)\n",
    "# plt.plot(rows, frames[0][0][:, zeroth_order])\n",
    "spectra_pixels = np.arange(zeroth_order, width)\n",
    "plt.plot(spectra_pixels, spectra[2])"
   ]
  },
  {
   "cell_type": "code",
   "execution_count": 75,
   "id": "90692c69",
   "metadata": {},
   "outputs": [
    {
     "data": {
      "text/plain": [
       "49"
      ]
     },
     "execution_count": 75,
     "metadata": {},
     "output_type": "execute_result"
    }
   ],
   "source": [
    "size = frames[0].shape\n",
    "size[0]"
   ]
  }
 ],
 "metadata": {
  "kernelspec": {
   "display_name": "Python 3 (ipykernel)",
   "language": "python",
   "name": "python3"
  },
  "language_info": {
   "codemirror_mode": {
    "name": "ipython",
    "version": 3
   },
   "file_extension": ".py",
   "mimetype": "text/x-python",
   "name": "python",
   "nbconvert_exporter": "python",
   "pygments_lexer": "ipython3",
   "version": "3.9.12"
  }
 },
 "nbformat": 4,
 "nbformat_minor": 5
}
